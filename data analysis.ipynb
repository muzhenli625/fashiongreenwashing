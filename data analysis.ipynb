{
 "cells": [
  {
   "cell_type": "code",
   "execution_count": 11,
   "id": "d82a1f63",
   "metadata": {},
   "outputs": [],
   "source": [
    "from bs4 import BeautifulSoup\n",
    "import requests\n",
    "import pandas as pd\n",
    "from urllib.request import urlopen\n",
    "import json\n",
    "import re\n",
    "import lxml.html\n",
    "from lxml.cssselect import CSSSelector\n",
    "import urllib"
   ]
  },
  {
   "cell_type": "code",
   "execution_count": 12,
   "id": "a159cbe3",
   "metadata": {},
   "outputs": [],
   "source": [
    "#### poshmark\"470412147\"\n",
    "#### mercari \"896130944\"\n",
    "#### depop \"518684914\"\n",
    "### the real real \"587618103\"\n",
    "### vinted \"632064380\""
   ]
  },
  {
   "cell_type": "code",
   "execution_count": 33,
   "id": "a7c1697e",
   "metadata": {},
   "outputs": [
    {
     "name": "stdout",
     "output_type": "stream",
     "text": [
      "['https://itunes.apple.com/rss/customerreviews/page=1/id=632064380/sortby=mostrecent/json?l=en&&cc=us', 'https://itunes.apple.com/rss/customerreviews/page=2/id=632064380/sortby=mostrecent/json?l=en&&cc=us', 'https://itunes.apple.com/rss/customerreviews/page=3/id=632064380/sortby=mostrecent/json?l=en&&cc=us', 'https://itunes.apple.com/rss/customerreviews/page=4/id=632064380/sortby=mostrecent/json?l=en&&cc=us', 'https://itunes.apple.com/rss/customerreviews/page=5/id=632064380/sortby=mostrecent/json?l=en&&cc=us', 'https://itunes.apple.com/rss/customerreviews/page=6/id=632064380/sortby=mostrecent/json?l=en&&cc=us', 'https://itunes.apple.com/rss/customerreviews/page=7/id=632064380/sortby=mostrecent/json?l=en&&cc=us', 'https://itunes.apple.com/rss/customerreviews/page=8/id=632064380/sortby=mostrecent/json?l=en&&cc=us', 'https://itunes.apple.com/rss/customerreviews/page=9/id=632064380/sortby=mostrecent/json?l=en&&cc=us', 'https://itunes.apple.com/rss/customerreviews/page=10/id=632064380/sortby=mostrecent/json?l=en&&cc=us']\n"
     ]
    }
   ],
   "source": [
    "root_url=\"https://itunes.apple.com/rss/customerreviews/page=\"\n",
    "index_url=[]\n",
    "for i in range(10):\n",
    "    index_url.append(root_url+str(i+1)+\"/id=632064380\"+\"/sortby=mostrecent/json?l=en&&cc=us\")\n",
    "print (index_url)"
   ]
  },
  {
   "cell_type": "code",
   "execution_count": 34,
   "id": "e4b0c4d5",
   "metadata": {},
   "outputs": [],
   "source": [
    "review_text=[]\n",
    "review_title=[]\n",
    "review_rate=[]\n",
    "review_time=[]\n",
    "\n"
   ]
  },
  {
   "cell_type": "code",
   "execution_count": null,
   "id": "f85d8c3d",
   "metadata": {},
   "outputs": [],
   "source": []
  },
  {
   "cell_type": "code",
   "execution_count": 35,
   "id": "cde27253",
   "metadata": {},
   "outputs": [],
   "source": [
    "for i in index_url:\n",
    "    source_code=requests.get(i)\n",
    "    plain_text=source_code.text\n",
    "    soup = BeautifulSoup(plain_text, 'html.parser')\n",
    "    s = soup.text\n",
    "    d=json.loads(s)\n",
    "    for j in d[\"feed\"][\"entry\"]:\n",
    "        review_time.append(j[\"updated\"][\"label\"])\n",
    "        review_rate.append(j[\"im:rating\"][\"label\"])\n",
    "        review_title.append(j[\"title\"][\"label\"])\n",
    "        review_text.append(j[\"content\"][\"label\"])"
   ]
  },
  {
   "cell_type": "code",
   "execution_count": 36,
   "id": "846a5105",
   "metadata": {},
   "outputs": [],
   "source": [
    "submission = pd.DataFrame({'review_time': review_time,'review_rate': review_rate,'review_title':review_title,'review_text': review_text})\n"
   ]
  },
  {
   "cell_type": "code",
   "execution_count": 37,
   "id": "ba00bf22",
   "metadata": {},
   "outputs": [],
   "source": [
    "submission.to_csv('vinted app review.csv', index=False) "
   ]
  },
  {
   "cell_type": "code",
   "execution_count": null,
   "id": "801c53ce",
   "metadata": {},
   "outputs": [],
   "source": []
  }
 ],
 "metadata": {
  "kernelspec": {
   "display_name": "Python 3 (ipykernel)",
   "language": "python",
   "name": "python3"
  },
  "language_info": {
   "codemirror_mode": {
    "name": "ipython",
    "version": 3
   },
   "file_extension": ".py",
   "mimetype": "text/x-python",
   "name": "python",
   "nbconvert_exporter": "python",
   "pygments_lexer": "ipython3",
   "version": "3.9.12"
  }
 },
 "nbformat": 4,
 "nbformat_minor": 5
}
