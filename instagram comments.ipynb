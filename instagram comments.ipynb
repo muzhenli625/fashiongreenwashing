{
 "cells": [
  {
   "cell_type": "code",
   "execution_count": 2,
   "id": "57d5a8ea",
   "metadata": {},
   "outputs": [
    {
     "name": "stdout",
     "output_type": "stream",
     "text": [
      "Collecting datetime\n",
      "  Downloading DateTime-5.5-py3-none-any.whl (52 kB)\n",
      "\u001b[K     |████████████████████████████████| 52 kB 760 kB/s eta 0:00:01\n",
      "\u001b[?25hRequirement already satisfied: pytz in ./opt/anaconda3/lib/python3.9/site-packages (from datetime) (2021.3)\n",
      "Requirement already satisfied: zope.interface in ./opt/anaconda3/lib/python3.9/site-packages (from datetime) (5.4.0)\n",
      "Requirement already satisfied: setuptools in ./opt/anaconda3/lib/python3.9/site-packages (from zope.interface->datetime) (61.2.0)\n",
      "Installing collected packages: datetime\n",
      "Successfully installed datetime-5.5\n",
      "Note: you may need to restart the kernel to use updated packages.\n"
     ]
    }
   ],
   "source": [
    "pip install datetime"
   ]
  },
  {
   "cell_type": "code",
   "execution_count": 3,
   "id": "400cb874",
   "metadata": {},
   "outputs": [
    {
     "name": "stdout",
     "output_type": "stream",
     "text": [
      "\u001b[31mERROR: Could not find a version that satisfies the requirement itertools (from versions: none)\u001b[0m\n",
      "\u001b[31mERROR: No matching distribution found for itertools\u001b[0m\n",
      "Note: you may need to restart the kernel to use updated packages.\n"
     ]
    }
   ],
   "source": [
    "pip install itertools"
   ]
  },
  {
   "cell_type": "code",
   "execution_count": 1,
   "id": "cafb45e6",
   "metadata": {},
   "outputs": [
    {
     "name": "stdout",
     "output_type": "stream",
     "text": [
      "Collecting instaloader\n",
      "  Downloading instaloader-4.11.tar.gz (63 kB)\n",
      "\u001b[K     |████████████████████████████████| 63 kB 937 kB/s eta 0:00:01\n",
      "\u001b[?25hRequirement already satisfied: requests>=2.4 in ./opt/anaconda3/lib/python3.9/site-packages (from instaloader) (2.27.1)\n",
      "Requirement already satisfied: urllib3<1.27,>=1.21.1 in ./opt/anaconda3/lib/python3.9/site-packages (from requests>=2.4->instaloader) (1.26.9)\n",
      "Requirement already satisfied: certifi>=2017.4.17 in ./opt/anaconda3/lib/python3.9/site-packages (from requests>=2.4->instaloader) (2021.10.8)\n",
      "Requirement already satisfied: charset-normalizer~=2.0.0 in ./opt/anaconda3/lib/python3.9/site-packages (from requests>=2.4->instaloader) (2.0.4)\n",
      "Requirement already satisfied: idna<4,>=2.5 in ./opt/anaconda3/lib/python3.9/site-packages (from requests>=2.4->instaloader) (3.3)\n",
      "Building wheels for collected packages: instaloader\n",
      "  Building wheel for instaloader (setup.py) ... \u001b[?25ldone\n",
      "\u001b[?25h  Created wheel for instaloader: filename=instaloader-4.11-py3-none-any.whl size=65986 sha256=f3fda183b22582e52c026106e3de7020c786775596fd3bf5ba29d4b28a7046de\n",
      "  Stored in directory: /Users/muzhenli/Library/Caches/pip/wheels/58/5e/f5/24b1c2aa58559944250dbe9662a24401747eb7d28d7b487e37\n",
      "Successfully built instaloader\n",
      "Installing collected packages: instaloader\n",
      "Successfully installed instaloader-4.11\n",
      "Note: you may need to restart the kernel to use updated packages.\n"
     ]
    }
   ],
   "source": [
    "\n",
    "pip install instaloader"
   ]
  },
  {
   "cell_type": "code",
   "execution_count": 26,
   "id": "220a2bfa",
   "metadata": {},
   "outputs": [],
   "source": [
    "username = ''\n",
    "password = ''"
   ]
  },
  {
   "cell_type": "code",
   "execution_count": 14,
   "id": "199323ea",
   "metadata": {},
   "outputs": [],
   "source": [
    "post_shortcode = 'Cb-hiEFumlt'\n"
   ]
  },
  {
   "cell_type": "code",
   "execution_count": 25,
   "id": "27452553",
   "metadata": {},
   "outputs": [],
   "source": [
    "import instaloader\n",
    "import re\n",
    "from datetime import datetime\n",
    "from instaloader import Hashtag\n",
    "loader = instaloader.Instaloader()\n",
    "loader.login(username, password)\n"
   ]
  },
  {
   "cell_type": "code",
   "execution_count": 16,
   "id": "00981119",
   "metadata": {},
   "outputs": [],
   "source": [
    "post_url = \"https://www.instagram.com/p/Cb-hiEFumlt/\"\n",
    "post = instaloader.Post.from_shortcode(loader.context, post_url.split(\"/\")[-2])"
   ]
  },
  {
   "cell_type": "code",
   "execution_count": 17,
   "id": "5965fbb9",
   "metadata": {},
   "outputs": [
    {
     "name": "stdout",
     "output_type": "stream",
     "text": [
      "Caption:  🗑 Fast fashion may finally be held responsible for clothing quality, toxic chemical use, and waste with recently proposed EU legislation.⁠\n",
      "⁠\n",
      "🔗 For more on the ambitious legislation set to make fashion more circular, read the full article by Nusa Urbancic of @changingmarkets on @euronewsgreen.⁠ (link in bio!)\n"
     ]
    }
   ],
   "source": [
    "caption = post.caption\n",
    "print(\"Caption: \", caption)"
   ]
  },
  {
   "cell_type": "code",
   "execution_count": 18,
   "id": "d3058a4c",
   "metadata": {},
   "outputs": [
    {
     "name": "stdout",
     "output_type": "stream",
     "text": [
      "Comments:  ['👏💚', '🙌🙌🙌🙌🙌', 'Make fast fashion brands accountable ✊🏼', 'Excellent news!', \"Amazing, let's hope this gets brought into law, in its full format and not watered down, ASAP!!\", 'Yes💚🌱♻️', 'It works because people would rather buy \"trendy\" cheap things from H&M rather than from a local maker who handmakes each piece. Its a consumer problem not an industry problem.', 'Good news 👏👏👏', 'Great stepping stone! I hope other countries can soon follow the same steps 🙌🙌', '👏👏👏👏', 'FINALLY!! 💪👏', 'Very cool - it’s time people realize how damaging apparel production can be to the environment.  Consumerism at its worst', 'Thank you for sharing this. We really need this to happen!!', 'Fantastic news 👏👏', 'This is so great. I really do hope these plans are executed!', '💚', 'Excellent news! Let’s hope that legislation like this spreads to other parts of the world as well 👏🏼', '👏👏👏', 'I hope they follow through quickly! This is good news!', 'Finally!', 'Great news!! Now onto the rest of the globe 🌏', 'Amazing news!', 'This is fascinating and a great direction for the fashion industry', 'Here’s to hoping they fulfill 👏', 'Is this specific to EU HQ brands, or all apparel brands operating / sold in the EU?', 'It’s about bloody time! Now, for the rest of the world to follow suit!', 'FINALLY 👏🏼👏🏼 amazing news', 'This is great', \"The EU circular action plan is going to change lots of things in the fashion industry, it's time for accountability! 🙌\", '🙌🙌🙌', 'Great news and a step in the right direction! 👏👏👏🙌', '👏👏👏', 'EPR has really a chance to move the needle! Let’s hope these suggestions will be implemented soon 💡🌿', 'We love the way you summarized it all! Great post 👏', 'Amazing!!! Lfg', '👏👏👏👏', '💛🙌🏻🙏🏻', 'That’s amazing news! We can’t wait to see how things will evolve 👏', \"I'm so looking forward to this. 🙏🥺\", 'Finally👏', 'I’m going to cry. I hope this goes through and truly makes a difference!', '👏', 'Amazing 🙌 it’s only right.', 'amazing👏 will also bridge the price  gap between fast fashion & responsible fashion hence making it easier for the customers to choose lasting & ethical slow fashion', 'Amazing news 🤩 let’s hope it’s followed through properly! 🙌', '🙏🏼', '.\\u2060\\n.\\u2060\\n.\\u2060\\n.\\u2060\\n.\\u2060\\n#consciousfashion #consciousstyle #ethicalfashion #ethicalstyle #sustainablefashion #greenwashing #fastfashion #fastfashionsucks #quitfastfashion #slowfashion #circularfashion #circularity #fashiongreenwashing #circulareconomy #consumeractivism']\n"
     ]
    }
   ],
   "source": [
    "comments = []\n",
    "for comment in post.get_comments():\n",
    "    comments.append(comment.text)\n",
    "print(\"Comments: \", comments)"
   ]
  },
  {
   "cell_type": "code",
   "execution_count": 19,
   "id": "0982d160",
   "metadata": {},
   "outputs": [
    {
     "name": "stdout",
     "output_type": "stream",
     "text": [
      "Likes:  2905\n"
     ]
    }
   ],
   "source": [
    "num_likes = post.likes\n",
    "print(\"Likes: \", num_likes)"
   ]
  },
  {
   "cell_type": "code",
   "execution_count": null,
   "id": "18fc655e",
   "metadata": {},
   "outputs": [],
   "source": []
  },
  {
   "cell_type": "code",
   "execution_count": 23,
   "id": "7c8a52e1",
   "metadata": {},
   "outputs": [],
   "source": [
    "\n"
   ]
  },
  {
   "cell_type": "code",
   "execution_count": null,
   "id": "bc01ddcb",
   "metadata": {},
   "outputs": [],
   "source": []
  },
  {
   "cell_type": "code",
   "execution_count": null,
   "id": "6bfa4134",
   "metadata": {},
   "outputs": [],
   "source": []
  },
  {
   "cell_type": "code",
   "execution_count": null,
   "id": "973e6b6a",
   "metadata": {},
   "outputs": [],
   "source": []
  }
 ],
 "metadata": {
  "kernelspec": {
   "display_name": "Python 3 (ipykernel)",
   "language": "python",
   "name": "python3"
  },
  "language_info": {
   "codemirror_mode": {
    "name": "ipython",
    "version": 3
   },
   "file_extension": ".py",
   "mimetype": "text/x-python",
   "name": "python",
   "nbconvert_exporter": "python",
   "pygments_lexer": "ipython3",
   "version": "3.11.8"
  }
 },
 "nbformat": 4,
 "nbformat_minor": 5
}
